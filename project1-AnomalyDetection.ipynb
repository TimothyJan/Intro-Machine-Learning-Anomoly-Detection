{
 "cells": [
  {
   "cell_type": "markdown",
   "id": "932a5de3",
   "metadata": {},
   "source": [
    "<h6>Fall 2021 - CPSC 483-02<br>\n",
    "Project 1 - Anomaly Detection<br>\n",
    "Sean Javiya <br>\n",
    "Jake Wong <br>\n",
    "Timothy Jan <br>\n",
    "</h6>\n",
    "In Project 1 - Anomaly Detection, we were given a dataset containing a list of students and their Zoom attendance over a 5 week course.<br>We performed various statistical tests on the data, in order to develop a function that will parse the provided dataset and output a list of students who were tardy or under-attended.<br>We developed two functions using different statistical methods of detecting anomalies in the dataset.<br>We conducted an analysis on the results and determined which function was more appropriate for the given dataset."
   ]
  },
  {
   "cell_type": "markdown",
   "id": "872ac4c1",
   "metadata": {},
   "source": [
    "<h1>Experiment 1: Use the csv module to load the dataset and examine the contents of the first few rows.</h1>"
   ]
  },
  {
   "cell_type": "code",
   "execution_count": 1,
   "id": "ffa6769a",
   "metadata": {},
   "outputs": [
    {
     "name": "stdout",
     "output_type": "stream",
     "text": [
      "There are 35 students in the 5 week course.\n",
      "The first 5 students and their attendance over the course are as follows:\n",
      "['Student Name', 'Week 1', 'Week 2', 'Week 3', 'Week 4', 'Week 5']\n",
      "['Adrian Ellison', '77', '154', '4', '170', '175']\n",
      "['Ophelia Mcphee', '179', '151', '164', '173', '171']\n",
      "['Yasir Fenton', '180', '47', '164', '168', '169']\n",
      "['Benny Arias', '180', '152', '161', '170', '170']\n",
      "['Tamara Cottrell', '183', '79', '161', '173', '168']\n"
     ]
    }
   ],
   "source": [
    "import csv\n",
    "import statistics\n",
    "headers = []\n",
    "students = []\n",
    "\n",
    "with open('participants.csv') as csv_data:\n",
    "    data_stream = csv.reader(csv_data, delimiter=',')\n",
    "    headers = next(data_stream)\n",
    "    students = [row for row in data_stream]   \n",
    "    student_names = [names[0] for names in students]\n",
    "    statistics_data = [int(week1data[1]) for week1data in students]\n",
    "\n",
    "studentcount = len(students)\n",
    "weekcount = len(headers) - 1    #the first column is 'Student Name', so we subtract 1 from the length of headers\n",
    "\n",
    "print(f'There are {studentcount} students in the {weekcount} week course.')\n",
    "print('The first 5 students and their attendance over the course are as follows:')\n",
    "print(headers)\n",
    "for i in range(5):\n",
    "    print(students[i])"
   ]
  },
  {
   "cell_type": "markdown",
   "id": "93c61761",
   "metadata": {},
   "source": [
    "Here we have imported the csv module to open our csv file \"<b>participants.csv</b>\" and then we load the dataset into four lists: headers, students, student_names, and statistics_data<br><ol>\n",
    "<li><b><code>headers</code></b> contains the elements from the first row from the csv file; it is a list of the headers of each column.<br></li>\n",
    "<li><code><b>students</b></code> is a list of lists.  \"students\" contains every field from the entire csv except the headers row. It is a list where each element corresponds to an entire row.  Each row element is a list of the values from each column.<br></li>\n",
    "<li><code><b>student_names</b></code> contains the first column of \"students\"; it is a list of the names of every student, in the order they appear in the csv file.<br></li>\n",
    "<li><code><b>statistics_data</b></code> is a list of all the values (time logged in) from a specified column (a specific week of the course).<br></li>\n",
    "\n",
    "> <i><code>statistics_data</code> is initialized to hold the values from the Week 1 column.</i>\n"
   ]
  },
  {
   "cell_type": "markdown",
   "id": "5c239cf1",
   "metadata": {},
   "source": [
    "<h1>Experiment 2: Use the statistics module to find the mean and median of Week 1’s data.</h1>"
   ]
  },
  {
   "cell_type": "code",
   "execution_count": 2,
   "id": "32f949ee",
   "metadata": {
    "scrolled": false
   },
   "outputs": [
    {
     "name": "stdout",
     "output_type": "stream",
     "text": [
      "Mean of Week 1 data:   161\n",
      "Median of Week 1 data: 175\n"
     ]
    }
   ],
   "source": [
    "mean = statistics.mean(statistics_data)\n",
    "median = statistics.median(statistics_data)\n",
    "\n",
    "print(f'Mean of Week 1 data:   {mean}')\n",
    "print(f'Median of Week 1 data: {median}')"
   ]
  },
  {
   "cell_type": "markdown",
   "id": "1e3fef60",
   "metadata": {},
   "source": [
    "In <b>Experiment 2</b>, we have used the statistics module to find the <b>mean</b> and <b>median</b> of <code>statistics_data</code>.<br>\n",
    "<br><b>We have obtained the mean and median of the logged minutes during Week 1.</b><br>\n",
    "> *Recall that <code>statistics_data</code> was initialized to hold the values from the Week 1 column.*"
   ]
  },
  {
   "cell_type": "markdown",
   "id": "af6c8f8a",
   "metadata": {},
   "source": [
    "<h1>Experiment 3: Find the quartiles for Week 1.</h1>"
   ]
  },
  {
   "cell_type": "code",
   "execution_count": 3,
   "id": "aee61c80",
   "metadata": {},
   "outputs": [
    {
     "data": {
      "text/plain": [
       "[174.0, 175.0, 179.0]"
      ]
     },
     "execution_count": 3,
     "metadata": {},
     "output_type": "execute_result"
    }
   ],
   "source": [
    "quartiles = statistics.quantiles(statistics_data)\n",
    "\n",
    "quartiles"
   ]
  },
  {
   "cell_type": "markdown",
   "id": "0601ea6f",
   "metadata": {},
   "source": [
    "<h3>In <b>Experiment 3</b>, we used the statistics module to find the <b>quartiles</b> of <code>statistics_data</code>.<br></h3>\n",
    "We save the quartiles in order as:<br>\n",
    "<ul><li><code>quartiles[0]</code></li><br>\n",
    "<li><code>quartiles[1]</code></li><br>\n",
    "<li><code>quartiles[2]</code></li></ul><br>\n",
    "<b>We have obtained the quartiles of the logged minutes during Week 1.</b><br>\n",
    "\n",
    "> *Recall that <code>statistics_data</code> was initialized to hold the values from the Week 1 column.*\n",
    "\n",
    "<br>Please note:<br><code>statistics.quantiles(statistics_data)</code> defaults to n=4 when n is not specified.<br>Therefore, this function call is equivalent to:<br>\n",
    "<code>statistics.quantiles(statistics_data, n=4)</code>"
   ]
  },
  {
   "cell_type": "markdown",
   "id": "85c8a355",
   "metadata": {},
   "source": [
    "<h1>Experiment 4: Use the Tukey Fences method to find the outliers in the Week 1 attendance data.</h1>"
   ]
  },
  {
   "cell_type": "code",
   "execution_count": 4,
   "id": "9f2a8b2e",
   "metadata": {},
   "outputs": [
    {
     "name": "stdout",
     "output_type": "stream",
     "text": [
      "The outliers who under attended during Week 1 are:\n",
      "Adrian Ellison\t\twho spent 77 minutes in Zoom.\n",
      "Tayla Sparrow\t\twho spent 51 minutes in Zoom.\n",
      "Owain Emerson\t\twho spent 9 minutes in Zoom.\n",
      "Alaya Dickinson\t\twho spent 24 minutes in Zoom.\n"
     ]
    }
   ],
   "source": [
    "over_attended = []\n",
    "under_attended = []\n",
    "k_factor = 1.5\n",
    "outlier_threshold = [(quartiles[0] - (k_factor * (quartiles[2] - quartiles[0]))), \n",
    "                     (quartiles[2] + (k_factor * (quartiles[2] - quartiles[0])))]\n",
    "\n",
    "for x in range(studentcount):\n",
    "    if statistics_data[x] > outlier_threshold[1]:\n",
    "        to_be_added = (student_names[x], statistics_data[x])\n",
    "        over_attended.append(to_be_added)\n",
    "    if statistics_data[x] < outlier_threshold[0]:\n",
    "        to_be_added = (student_names[x], statistics_data[x])\n",
    "        under_attended.append(to_be_added)\n",
    "\n",
    "if over_attended:\n",
    "    print(\"The outliers who over attended during Week 1 are:\")\n",
    "    for outlier in over_attended:\n",
    "        print(f\"{outlier[0]}\\t\\twho spent {outlier[1]} minutes in Zoom.\")\n",
    "if under_attended:\n",
    "    print(\"The outliers who under attended during Week 1 are:\")\n",
    "    for outlier in under_attended:\n",
    "        print(f\"{outlier[0]}\\t\\twho spent {outlier[1]} minutes in Zoom.\")\n",
    "if (not under_attended) and (not over_attended):\n",
    "    print(\"There are no outliers.\")  "
   ]
  },
  {
   "cell_type": "markdown",
   "id": "705fbbec",
   "metadata": {},
   "source": [
    "<h3>In <b>Experiment 4</b>, we find the <b>outliers</b> (of the Week 1 data) using the <b>Tukey Fences</b> method.</h3><br>\n",
    "Using Tukey Fences is a method to find outliers in terms of the <b>interquartile range</b>.<br><br>\n",
    "We can find the outliers using the interquartile range. For example, if <code>quartiles[0]</code>(or ${Q_1}$) and <code>quartiles[2]</code>(or $Q_{3}$) are the lower and upper quartiles respectively, then an outlier is any value outside the range:<br>\n",
    "\n",
    "> $[Q_{1}-k(Q_{3}-Q_{1}), Q_{3}+k(Q_{3}-Q_{1})]$<br>\n",
    "\n",
    "<code>outlier_threshold = [(quartiles[0] - (k_factor * (quartiles[2] - quartiles[0]))),</code><br>\n",
    "<code>                     (quartiles[2] + (k_factor * (quartiles[2] - quartiles[0])))]</code>\n",
    "<br>\n",
    "for some nonnegative constant <code><b>k_factor</b></code>(or ${k}$). <br>\n",
    "*John Tukey proposed this test, where k_factor = <b>1.5</b> indicates an \"outlier\", and k_factor = <b>3</b> indicates data that is \"far out\"* \n",
    "<br><br>\n",
    "We used the quartiles obtained from Experiment 3 to find the range for the outliers of the Week 1 data using the Tukey fences method.<br>\n",
    "Finally, we compare the values from the Week 1 data with our upper and lower bounds to find and output the outliers to the standard output device.<br><br>\n",
    "<b>We have obtained the outliers of the Week 1 data using the Tukey Fences method.</b><br>\n",
    "> *Recall that <code>statistics_data</code> was initialized to hold the values from the Week 1 column.*"
   ]
  },
  {
   "cell_type": "markdown",
   "id": "77b182fc",
   "metadata": {},
   "source": [
    "<h1>Experiment 5: Compute the standard deviation for the Week 1 attendance data, then use the empirical rule to find the outliers.</h1>"
   ]
  },
  {
   "cell_type": "code",
   "execution_count": 5,
   "id": "10b7965f",
   "metadata": {},
   "outputs": [
    {
     "name": "stdout",
     "output_type": "stream",
     "text": [
      "Week 1's Standard Deviation: 45.02025687856262\n",
      "\n",
      "The outliers of Week 1 are:\n",
      "Owain Emerson\t\twho spent 9 minutes in Zoom.\n",
      "Alaya Dickinson\t\twho spent 24 minutes in Zoom.\n"
     ]
    }
   ],
   "source": [
    "outside_3_stdev = []\n",
    "\n",
    "std_dev = statistics.stdev(statistics_data)\n",
    "lower_bound = mean - (3 * std_dev)\n",
    "upper_bound = mean + (3 * std_dev)\n",
    "\n",
    "for x in range(studentcount):\n",
    "    to_be_compared = statistics_data[x]\n",
    "    if to_be_compared <  lower_bound or to_be_compared > upper_bound:\n",
    "        to_be_added = (student_names[x], statistics_data[x])\n",
    "        outside_3_stdev.append(to_be_added)\n",
    "\n",
    "print(f\"Week 1's Standard Deviation: {std_dev}\\n\")\n",
    "if not outside_3_stdev:\n",
    "    print('There are no outliers.')\n",
    "else:\n",
    "    print(\"The outliers of Week 1 are:\")\n",
    "    for outlier in outside_3_stdev:\n",
    "        print(f\"{outlier[0]}\\t\\twho spent {outlier[1]} minutes in Zoom.\")"
   ]
  },
  {
   "cell_type": "markdown",
   "id": "ed3473f2",
   "metadata": {},
   "source": [
    "<h3>In <b>Experiment 5</b>, we find the <b>outliers</b> (of the Week 1 data) using the <b>empirical rule</b>.</h3>\n",
    "<br>\n",
    "The empirical rule, or the 68–95–99.7 rule, represent the percentage of values that lie within an interval estimate in a normal distribution: According to the empirical rule, 99.7% of the values lie within three standard deviations of the mean.<br>\n",
    "\n",
    "> $Probability(\\mu-3\\sigma \\leq X \\leq \\mu + 3\\sigma) \\approx 99.73\\%$<br>\n",
    "\n",
    "$\\mu$ is the Mean of the data<br>\n",
    "$\\sigma$ is the standard deviation from the mean<br>\n",
    "X is a data point from our normally distributed data<br>\n",
    "<b>Assuming that our data is normally distributed</b>, this gives us another way to find <b>outliers</b>.<br><br>\n",
    "We use the statistics module to find the standard deviation of the values in <code>statistics_data</code>.<br>\n",
    "We save the standard deviation as <code><b>std_dev</b></code><br>\n",
    "\n",
    "> *Recall that <code>statistics_data</code> was initialized to hold the values from Week 1.*\n",
    "\n",
    "We use the <b>mean</b> obtained from Experiment 2 to calculate the <b>upper and lower bounds of our distribution</b>.<br>\n",
    "<code>lower_bound = mean - (3 * std_dev)</code><br>\n",
    "<code>upper_bound = mean + (3 * std_dev)</code><br>\n",
    "\n",
    "> *Recall that <code>std_dev</code> is the standard deviation we obtained from the statistics module.*<br>\n",
    "\n",
    "<br>\n",
    "<b>Finally, we compare the values from the Week 1 data with our upper and lower bounds to find and output the outliers to the standard output device.</b><br><br>\n",
    "\n",
    "<u><b><i>The results of Experiment 5 do not agree with the reults of Experiment 4.</i></b></u>"
   ]
  },
  {
   "cell_type": "markdown",
   "id": "ab1213b0",
   "metadata": {},
   "source": [
    "<h1>Experiment 6: Define a function tardy_iqr() to repeat experiment 4.</h1>"
   ]
  },
  {
   "cell_type": "code",
   "execution_count": 6,
   "id": "7193524c",
   "metadata": {
    "scrolled": true
   },
   "outputs": [
    {
     "name": "stdout",
     "output_type": "stream",
     "text": [
      "The students who under attended during Week 1:\n",
      "Adrian Ellison\t\t\twho spent 77 minutes in Zoom.\n",
      "Tayla Sparrow\t\t\twho spent 51 minutes in Zoom.\n",
      "Owain Emerson\t\t\twho spent 9 minutes in Zoom.\n",
      "Alaya Dickinson\t\t\twho spent 24 minutes in Zoom.\n"
     ]
    },
    {
     "data": {
      "text/plain": [
       "['Adrian Ellison', 'Tayla Sparrow', 'Owain Emerson', 'Alaya Dickinson']"
      ]
     },
     "execution_count": 6,
     "metadata": {},
     "output_type": "execute_result"
    }
   ],
   "source": [
    "def tardy_iqr(week):\n",
    "    over_attended = []\n",
    "    under_attended = []\n",
    "    k_factor = 1.5\n",
    "    if not headers:\n",
    "        print(\"Please select 'Run All Cells'\")\n",
    "        return\n",
    "    elif week not in headers:\n",
    "        print(f\"{week} was not found within the list of Headers\")\n",
    "        return\n",
    "    elif week == \"Student Name\":\n",
    "        print(\"'Student Name' is not a valid option\")\n",
    "        return\n",
    "    week_index = headers.index(week)\n",
    "    statistics_data = [int(row[week_index]) for row in students]\n",
    "    quartiles = statistics.quantiles(statistics_data)\n",
    "    outlier_threshold = [(quartiles[0] - (k_factor * (quartiles[2] - quartiles[0]))), \n",
    "                         (quartiles[2] + (k_factor * (quartiles[2] - quartiles[0])))]\n",
    "    \n",
    "    for x in range(studentcount):\n",
    "        if statistics_data[x] > outlier_threshold[1]:\n",
    "            to_be_added = (student_names[x], statistics_data[x])\n",
    "            over_attended.append(to_be_added)\n",
    "        if statistics_data[x] < outlier_threshold[0]:\n",
    "            to_be_added = (student_names[x], statistics_data[x])\n",
    "            under_attended.append(to_be_added)\n",
    "    if not under_attended:\n",
    "        print(f\"There are no students who under attended during {week}.\") \n",
    "    else:\n",
    "        print(f\"The students who under attended during {week}:\")\n",
    "        for student in under_attended:\n",
    "            print(f\"{student[0]}\\t\\t\\twho spent {student[1]} minutes in Zoom.\")\n",
    "    \n",
    "    names_of_under_attended = [name[0] for name in under_attended]\n",
    "    return names_of_under_attended\n",
    "\n",
    "tardy_iqr(\"Week 1\")"
   ]
  },
  {
   "cell_type": "markdown",
   "id": "9c4c624a",
   "metadata": {},
   "source": [
    "<h3>In <b>Experiment 6</b>, we built a <b>function to perform Experiment 4</b>.<br></h3>\n",
    "<code>tardy_iqr()</code><br>\n",
    "The function <code>tardy_iqr()</code> takes one parameter.<br>The <b>parameter</b> is the Week # that we want Experiment 4 performed upon.<br>The function <code>tardy_iqr()</code> <b>returns</b> a list of names (of students who under attended).<br><br>\n",
    "First, we verify that the given parameter exists in <code><b>headers</b></code>.<br>\n",
    "\n",
    "> *Recall that <code>headers</code> contains the headers of each column.*\n",
    "\n",
    "Second, we initialize <b><code>statistics_data</code></b> to contain the values from the specified week (the parameter).<br>We copy the desired values from <code><b>students</b></code> to prevent wasting resources by re-opening our csv file.<br>\n",
    "\n",
    "> *Recall that <code>students</code> contains every field from the entire csv file except the headers row.*<br>\n",
    "\n",
    "Third, we perform Experiment 4 and find the students who under attended.<br><br>\n",
    "<b>Finally, we output a detailed report to the standard output device and return the names of the students who under attended.</b>"
   ]
  },
  {
   "cell_type": "markdown",
   "id": "3daf96d9",
   "metadata": {},
   "source": [
    "<h1>Experiment 7: Define a function tardy_stdev() to repeat experiment 5.</h1> "
   ]
  },
  {
   "cell_type": "code",
   "execution_count": 7,
   "id": "89f15ba2",
   "metadata": {
    "scrolled": true
   },
   "outputs": [
    {
     "name": "stdout",
     "output_type": "stream",
     "text": [
      "Mean of Week 1 data:   161\n",
      "Median of Week 1 data: 175\n",
      "Standard Deviation of Week 1: 45.02025687856262\n",
      "The outliers of Week 1 are:\n",
      "Owain Emerson\t\t\twho spent 9 minutes in Zoom.\n",
      "Alaya Dickinson\t\t\twho spent 24 minutes in Zoom.\n"
     ]
    },
    {
     "data": {
      "text/plain": [
       "['Owain Emerson', 'Alaya Dickinson']"
      ]
     },
     "execution_count": 7,
     "metadata": {},
     "output_type": "execute_result"
    }
   ],
   "source": [
    "def tardy_stdev(week):\n",
    "    outside_3_stdev = []\n",
    "    if not headers:\n",
    "        print('Please select \"Run All Cells\"')\n",
    "        return\n",
    "    if week not in headers:\n",
    "        print(f\"{week} was not found within the list of Headers\")\n",
    "        return\n",
    "    elif week == \"Student Name\":\n",
    "        print(\"'Student Name' is not a valid option\")\n",
    "        return\n",
    "    week_index = headers.index(week)\n",
    "    statistics_data = [int(row[week_index]) for row in students]\n",
    "    mean = statistics.mean(statistics_data)\n",
    "    median = statistics.median(statistics_data)\n",
    "    std_dev = statistics.stdev(statistics_data)\n",
    "    lower_bound = mean - (3 * std_dev)\n",
    "    upper_bound = mean + (3 * std_dev)\n",
    "    print(f'Mean of {week} data:   {mean}')\n",
    "    print(f'Median of {week} data: {median}')\n",
    "    print(f\"Standard Deviation of {week}: {std_dev}\")\n",
    "    for x in range(studentcount):\n",
    "        to_be_compared = statistics_data[x]\n",
    "        if to_be_compared <  lower_bound or to_be_compared > upper_bound:\n",
    "            to_be_added = (student_names[x], statistics_data[x])\n",
    "            outside_3_stdev.append(to_be_added)\n",
    "    if not outside_3_stdev:\n",
    "        print(f\"There are no outliers during {week}.\") \n",
    "    else:\n",
    "        print(f'The outliers of {week} are:')\n",
    "        for student in outside_3_stdev:\n",
    "            print(f\"{student[0]}\\t\\t\\twho spent {student[1]} minutes in Zoom.\")\n",
    "\n",
    "    names_of_outliers = [name[0] for name in outside_3_stdev]\n",
    "    return names_of_outliers\n",
    "\n",
    "tardy_stdev(\"Week 1\")"
   ]
  },
  {
   "cell_type": "markdown",
   "id": "397408a1",
   "metadata": {},
   "source": [
    "<h3>In <b>Experiment 7</b>, we built a <b>function to perform Experiment 5</b>.<br></h3>\n",
    "<code>tardy_stdev()</code><br>\n",
    "The function <code>tardy_stdev()</code> takes one parameter.<br>The <b>parameter</b> is the Week # that we want Experiment 5 performed upon.<br>The function <code>tardy_stdev()</code> <b>returns</b> a list of names (of students who were outliers).<br><br>\n",
    "First, we verify that the parameter exists in <b><code>headers</code></b>.<br>\n",
    "\n",
    "> *Recall that \"headers\" contains the headers of each column.*<br>\n",
    "\n",
    "Second, we initialize <code><b>statistics_data</b></code> to contain the values from the specified week (the parameter).<br>\n",
    "We take the values from <code><b>students</b></code>\" to prevent wasting resources by re-opening our csv file.<br>\n",
    "\n",
    "> *Recall that <code>students</code> contains every field from the entire csv file except the headers row.*<br>\n",
    "\n",
    "Third, we perform Experiment 5 and find the students who were outliers.<br><br>\n",
    "<b>Finally, we output a detailed report to the standard output device and return the names of the students who were outliers.</b>"
   ]
  },
  {
   "cell_type": "markdown",
   "id": "4e29dd79",
   "metadata": {},
   "source": [
    "<h1>Experiment 8: Compare the results of tardy_iqr() and tardy_stdev() on Weeks 2-5.</h1>"
   ]
  },
  {
   "cell_type": "code",
   "execution_count": 8,
   "id": "63b040a7",
   "metadata": {},
   "outputs": [
    {
     "name": "stdout",
     "output_type": "stream",
     "text": [
      "                         Week 2\n",
      "--------------------------------------------------------------\n",
      "Comparing tardy_iqr to tardy_stdev for Week 2:\n",
      "1)     tardy_iqr (using Tukey Fences):\n",
      "The students who under attended during Week 2:\n",
      "Yasir Fenton\t\t\twho spent 47 minutes in Zoom.\n",
      "Tamara Cottrell\t\t\twho spent 79 minutes in Zoom.\n",
      "Jazmin Foreman\t\t\twho spent 103 minutes in Zoom.\n",
      "Bear Zuniga\t\t\twho spent 131 minutes in Zoom.\n",
      "Miles Lyons\t\t\twho spent 2 minutes in Zoom.\n",
      "\n",
      "2)     tardy_stdev (using Standard Deviation):\n",
      "Mean of Week 2 data:   145.0857142857143\n",
      "Median of Week 2 data: 153\n",
      "Standard Deviation of Week 2: 41.76712148298934\n",
      "The outliers of Week 2 are:\n",
      "Miles Lyons\t\t\twho spent 2 minutes in Zoom.\n",
      "Owain Emerson\t\t\twho spent 290 minutes in Zoom.\n",
      "--------------------------------------------------------------\n",
      "tardy_iqr returned:\n",
      "['Yasir Fenton', 'Tamara Cottrell', 'Jazmin Foreman', 'Bear Zuniga', 'Miles Lyons']\n",
      "\n",
      "tardy_stdev returned:\n",
      "['Miles Lyons', 'Owain Emerson']\n",
      "--------------------------------------------------------------\n",
      "--------------------------------------------------------------\n",
      "\n",
      "                         Week 3\n",
      "--------------------------------------------------------------\n",
      "Comparing tardy_iqr to tardy_stdev for Week 3:\n",
      "1)     tardy_iqr (using Tukey Fences):\n",
      "The students who under attended during Week 3:\n",
      "Adrian Ellison\t\t\twho spent 4 minutes in Zoom.\n",
      "Adeline Jordan\t\t\twho spent 105 minutes in Zoom.\n",
      "Jaye Sweeney\t\t\twho spent 121 minutes in Zoom.\n",
      "\n",
      "2)     tardy_stdev (using Standard Deviation):\n",
      "Mean of Week 3 data:   153.8\n",
      "Median of Week 3 data: 161\n",
      "Standard Deviation of Week 3: 28.709293432820054\n",
      "The outliers of Week 3 are:\n",
      "Adrian Ellison\t\t\twho spent 4 minutes in Zoom.\n",
      "--------------------------------------------------------------\n",
      "tardy_iqr returned:\n",
      "['Adrian Ellison', 'Adeline Jordan', 'Jaye Sweeney']\n",
      "\n",
      "tardy_stdev returned:\n",
      "['Adrian Ellison']\n",
      "--------------------------------------------------------------\n",
      "--------------------------------------------------------------\n",
      "\n",
      "                         Week 4\n",
      "--------------------------------------------------------------\n",
      "Comparing tardy_iqr to tardy_stdev for Week 4:\n",
      "1)     tardy_iqr (using Tukey Fences):\n",
      "There are no students who under attended during Week 4.\n",
      "\n",
      "2)     tardy_stdev (using Standard Deviation):\n",
      "Mean of Week 4 data:   175.31428571428572\n",
      "Median of Week 4 data: 171\n",
      "Standard Deviation of Week 4: 24.63590329361676\n",
      "The outliers of Week 4 are:\n",
      "Dora Delacruz\t\t\twho spent 316 minutes in Zoom.\n",
      "--------------------------------------------------------------\n",
      "tardy_iqr returned:\n",
      "[]\n",
      "\n",
      "tardy_stdev returned:\n",
      "['Dora Delacruz']\n",
      "--------------------------------------------------------------\n",
      "--------------------------------------------------------------\n",
      "\n",
      "                         Week 5\n",
      "--------------------------------------------------------------\n",
      "Comparing tardy_iqr to tardy_stdev for Week 5:\n",
      "1)     tardy_iqr (using Tukey Fences):\n",
      "The students who under attended during Week 5:\n",
      "Jazmin Foreman\t\t\twho spent 35 minutes in Zoom.\n",
      "Sanjay Edwards\t\t\twho spent 66 minutes in Zoom.\n",
      "Alfie-James Pierce\t\t\twho spent 74 minutes in Zoom.\n",
      "Saffa Brook\t\t\twho spent 143 minutes in Zoom.\n",
      "\n",
      "2)     tardy_stdev (using Standard Deviation):\n",
      "Mean of Week 5 data:   161.8\n",
      "Median of Week 5 data: 171\n",
      "Standard Deviation of Week 5: 33.36941184766108\n",
      "The outliers of Week 5 are:\n",
      "Jazmin Foreman\t\t\twho spent 35 minutes in Zoom.\n",
      "--------------------------------------------------------------\n",
      "tardy_iqr returned:\n",
      "['Jazmin Foreman', 'Sanjay Edwards', 'Alfie-James Pierce', 'Saffa Brook']\n",
      "\n",
      "tardy_stdev returned:\n",
      "['Jazmin Foreman']\n",
      "--------------------------------------------------------------\n",
      "--------------------------------------------------------------\n",
      "\n"
     ]
    }
   ],
   "source": [
    "x = 2\n",
    "compare_iqr = []\n",
    "compare_stdev = []\n",
    "while x <= 5:\n",
    "    print(f'                         Week {x}')\n",
    "    print('--------------------------------------------------------------')\n",
    "    print(f'Comparing tardy_iqr to tardy_stdev for Week {x}:')\n",
    "    print('1)     tardy_iqr (using Tukey Fences):')\n",
    "    compare_iqr = tardy_iqr(f'Week {x}')\n",
    "    print('\\n2)     tardy_stdev (using Standard Deviation):')\n",
    "    compare_stdev = tardy_stdev(f'Week {x}')\n",
    "    print('--------------------------------------------------------------')\n",
    "    print('tardy_iqr returned:')\n",
    "    print(compare_iqr)\n",
    "    print('\\ntardy_stdev returned:')\n",
    "    print(compare_stdev)\n",
    "    print('--------------------------------------------------------------')\n",
    "    print('--------------------------------------------------------------\\n')\n",
    "    x += 1\n"
   ]
  },
  {
   "cell_type": "markdown",
   "id": "45b435e9",
   "metadata": {},
   "source": [
    "<h3>In <b>Experiment 8</b>, we <b>compare the results of</b> <code>tardy_iqr()</code> and <code>tardy_stdev()</code><b> for Weeks 2 through 5.</b></h3><br>\n",
    "Most of results from these functions differ.  So we are posed with the question, which method is more correct for this data set?<br><ul>\n",
    "<li><b><u>Week 2:</u></b></li>\n",
    "    <code>tardy_iqr()</code> returned 'Yasir Fenton', 'Tamara Cottrell', 'Jazmin Foreman', 'Bear Zuniga' and 'Miles Lyons'.<br>\n",
    "    <code>tardy_stdev()</code> returned 'Miles Lyons', 'Owain Emerson'.<br>\n",
    "    <b>We must observe the other data from the report printed to the standard ouptut to make a decision.</b><br>\n",
    "    Mean of Week 2 data:   145.0857142857143<br>\n",
    "    Median of Week 2 data: 153<br>\n",
    "    Standard Deviation of Week 2: 41.76712148298934<br>\n",
    "    Yasir Fenton\t\t\twho spent 47 minutes in Zoom.<br>\n",
    "    Tamara Cottrell\t\t\twho spent 79 minutes in Zoom.<br>\n",
    "    Jazmin Foreman\t\t\twho spent 103 minutes in Zoom.<br>\n",
    "    Bear Zuniga\t\t\twho spent 131 minutes in Zoom.<br>\n",
    "    Miles Lyons\t\t\twho spent 2 minutes in Zoom.<br>\n",
    "    Owain Emerson\t\t\twho spent 290 minutes in Zoom<br>\n",
    "    <br>\n",
    "    <b><u>Decision:</u>     <code>tardy_iqr()</code></b><br>\n",
    "    Yasir, Tamara, Jazmin, Bear, and Miles were all more than 15 minutes below the mean.<br>\n",
    "    Therefore, <code>tardy_iqr()</code> provided the more accurate results, since <code>tardy_stdev()</code> did not include Yasir, Tamara, Jazmin, or Bear.<br>Furthermore, <code>tardy_stdev()</code> also returned Owain, who actually over attended during Week 2.<br>It might not be correct to mark Owain as tardy, they might have forgot to log off Zoom after class.\n",
    "    <br><br>\n",
    "<li><b><u>Week 3:</u></b></li>\n",
    "    <code>tardy_iqr()</code> returned 'Adrian Ellison', 'Adeline Jordan', 'Jaye Sweeney'.<br>\n",
    "    <code>tardy_stdev()</code> returned 'Adrian Ellison'.<br>\n",
    "    <b>We must observe the other data from the report printed to the standard ouptut to make a decision.</b><br>\n",
    "    Mean of Week 3 data:   153.8<br>\n",
    "    Median of Week 3 data: 161<br>\n",
    "    Standard Deviation of Week 3: 28.709293432820054<br>\n",
    "    Adrian Ellison\t\t\twho spent 4 minutes in Zoom.<br>\n",
    "    Adeline Jordan\t\t\twho spent 105 minutes in Zoom.<br>\n",
    "    Jaye Sweeney\t\t\twho spent 121 minutes in Zoom.<br>\n",
    "    <br>\n",
    "    <b><u>Decision:</u>     <code>tardy_iqr()</code></b><br>\n",
    "    Adrian, Adeline, and Jaye were all more than 30 minutes below the mean.<br>\n",
    "    Therefore, <code>tardy_iqr()</code> provided the more accurate results, since <code>tardy_stdev()</code> did not include Adeline and Jaye.<br>\n",
    "    <br>\n",
    "<li><b><u>Week 4:</u></b></li>\n",
    "    <code>tardy_iqr()</code> returned an empty list.<br>\n",
    "    <code>tardy_stdev()</code> returned 'Dora Delacruz'.<br>\n",
    "    <b>We must observe the other data from the report printed to the standard ouptut to make a decision.</b><br>\n",
    "    Mean of Week 4 data:   175.31428571428572<br>\n",
    "    Median of Week 4 data: 171<br>\n",
    "    Standard Deviation of Week 4: 24.63590329361676<br>\n",
    "    Dora Delacruz\t\t\twho spent 316 minutes in Zoom<br>\n",
    "    <br>\n",
    "    <b><u>Decision:</u>     <code>tardy_iqr()</code></b><br>\n",
    "    No students logged minutes considerably below the mean.<br>\n",
    "    Therefore, <code>tardy_iqr()</code> provided the more accurate results.\n",
    "    <br>Furthermore, <code>tardy_stdev()</code> also returned Dora, who actually over attended during Week 4.\n",
    "    <br>It might not be correct to mark Dora as tardy, they might have forgot to log off Zoom after class.\n",
    "    <br><br>\n",
    "<li><b><u>Week 5:</u></b></li>\n",
    "    <code>tardy_iqr()</code> returned 'Jazmin Foreman', 'Sanjay Edwards', 'Alfie-James Pierce', 'Saffa Brook'.<br>\n",
    "    <code>tardy_stdev()</code> returned 'Jazmin Foreman'.<br>\n",
    "    <b>We must observe the other data from the report printed to the standard ouptut to make a decision.</b><br>\n",
    "    Mean of Week 5 data:   161.8<br>\n",
    "    Median of Week 5 data: 171<br>\n",
    "    Standard Deviation of Week 5: 33.36941184766108<br>\n",
    "    Jazmin Foreman\t\t\twho spent 35 minutes in Zoom.<br>\n",
    "    Sanjay Edwards\t\t\twho spent 66 minutes in Zoom.<br>\n",
    "    Alfie-James Pierce\t    who spent 74 minutes in Zoom.<br>\n",
    "    Saffa Brook\t\t\t    who spent 143 minutes in Zoom.<br>\n",
    "    <br>\n",
    "    <b><u>Decision:</u>     <code>tardy_iqr()</code></b><br>\n",
    "    Jazmin, Sanjay, Alfie-James, and Saffa were all more than 18 minutes below the mean.<br>\n",
    "    Therefore, <code>tardy_iqr()</code> provided the more accurate results.<br>\n",
    "    Furthermore, <code>tardy_stdev()</code> did not return Sanjay and Alfie-James, even though they logged around 100 minutes below the mean.\n",
    "</ul><br>\n",
    "<b><u>Conclusions:</u></b><br>\n",
    "For every week, <code>tardy_iqr()</code> was the more appropriate method of finding tardy students.<br>\n",
    "<code>tardy_stdev()</code> included students who over-attended, and did not include enough students who under-attended.<br>\n",
    "This might indicate that our data is not normally distributed, as we assumed.  In order for the empirical rule to produce correct results, the values must be normally distributed.<br>\n",
    "A future area of research would be to use a Q-Q Plot or another method to test if our dataset is normally distributed."
   ]
  }
 ],
 "metadata": {
  "kernelspec": {
   "display_name": "Python 3",
   "language": "python",
   "name": "python3"
  },
  "language_info": {
   "codemirror_mode": {
    "name": "ipython",
    "version": 3
   },
   "file_extension": ".py",
   "mimetype": "text/x-python",
   "name": "python",
   "nbconvert_exporter": "python",
   "pygments_lexer": "ipython3",
   "version": "3.8.8"
  }
 },
 "nbformat": 4,
 "nbformat_minor": 5
}
